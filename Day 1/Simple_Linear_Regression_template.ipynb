{
  "cells": [
    {
      "cell_type": "markdown",
      "metadata": {
        "id": "l_LulNCC8z96"
      },
      "source": [
        "# Simple Linear Regression"
      ]
    },
    {
      "cell_type": "markdown",
      "metadata": {
        "id": "xpXdowrE9DxW"
      },
      "source": [
        "## Importing the libraries"
      ]
    },
    {
      "cell_type": "code",
      "execution_count": 3,
      "metadata": {},
      "outputs": [],
      "source": [
        "import numpy as np   # To work with arrays\n",
        "import matplotlib.pyplot as plt  # TO plot the data in graph and to visulize the data\n",
        "import pandas as pd # To work with data\n"
      ]
    },
    {
      "cell_type": "markdown",
      "metadata": {
        "id": "6JhpWJi59J1p"
      },
      "source": [
        "## Importing the dataset"
      ]
    },
    {
      "cell_type": "code",
      "execution_count": 4,
      "metadata": {},
      "outputs": [],
      "source": [
        "dataset = pd.read_csv('Salary.csv') # Reading the CSV file and saving in variable dataset\n",
        "\n",
        "x = dataset.iloc[:, 0] # All rows and first coloumn\n",
        "y = dataset.iloc[:, 1] # All Row and Second coloumn"
      ]
    },
    {
      "cell_type": "code",
      "execution_count": 5,
      "metadata": {},
      "outputs": [
        {
          "name": "stdout",
          "output_type": "stream",
          "text": [
            "0      1.1\n",
            "1      1.3\n",
            "2      1.5\n",
            "3      2.0\n",
            "4      2.2\n",
            "5      2.9\n",
            "6      3.0\n",
            "7      3.2\n",
            "8      3.2\n",
            "9      3.7\n",
            "10     3.9\n",
            "11     4.0\n",
            "12     4.0\n",
            "13     4.1\n",
            "14     4.5\n",
            "15     4.9\n",
            "16     5.1\n",
            "17     5.3\n",
            "18     5.9\n",
            "19     6.0\n",
            "20     6.8\n",
            "21     7.1\n",
            "22     7.9\n",
            "23     8.2\n",
            "24     8.7\n",
            "25     9.0\n",
            "26     9.5\n",
            "27     9.6\n",
            "28    10.3\n",
            "29    10.5\n",
            "30    11.2\n",
            "31    11.5\n",
            "32    12.3\n",
            "33    12.9\n",
            "34    13.5\n",
            "Name: YearsExperience, dtype: float64\n"
          ]
        }
      ],
      "source": [
        "print(x)"
      ]
    },
    {
      "cell_type": "code",
      "execution_count": 6,
      "metadata": {},
      "outputs": [
        {
          "name": "stdout",
          "output_type": "stream",
          "text": [
            "0      39343\n",
            "1      46205\n",
            "2      37731\n",
            "3      43525\n",
            "4      39891\n",
            "5      56642\n",
            "6      60150\n",
            "7      54445\n",
            "8      64445\n",
            "9      57189\n",
            "10     63218\n",
            "11     55794\n",
            "12     56957\n",
            "13     57081\n",
            "14     61111\n",
            "15     67938\n",
            "16     66029\n",
            "17     83088\n",
            "18     81363\n",
            "19     93940\n",
            "20     91738\n",
            "21     98273\n",
            "22    101302\n",
            "23    113812\n",
            "24    109431\n",
            "25    105582\n",
            "26    116969\n",
            "27    112635\n",
            "28    122391\n",
            "29    121872\n",
            "30    127345\n",
            "31    126756\n",
            "32    128765\n",
            "33    135675\n",
            "34    139465\n",
            "Name: Salary, dtype: int64\n"
          ]
        }
      ],
      "source": [
        "print (y)"
      ]
    },
    {
      "cell_type": "markdown",
      "metadata": {
        "id": "AyhQaTwP9RzG"
      },
      "source": [
        "## Splitting the dataset into the Training set and Test set"
      ]
    },
    {
      "cell_type": "markdown",
      "metadata": {
        "id": "ZijQwFMQ9itx"
      },
      "source": [
        "## Training the Simple Linear Regression model on the Training set"
      ]
    },
    {
      "cell_type": "markdown",
      "metadata": {
        "id": "wa2T1Lq89o5H"
      },
      "source": [
        "## Predicting the Test set results"
      ]
    },
    {
      "cell_type": "markdown",
      "metadata": {
        "id": "-zSoMZ-P9v8t"
      },
      "source": [
        "## Visualising the Training set results"
      ]
    },
    {
      "cell_type": "markdown",
      "metadata": {
        "id": "EUX1Vhsv97ZT"
      },
      "source": [
        "## Visualising the Test set results"
      ]
    },
    {
      "cell_type": "markdown",
      "metadata": {
        "id": "1Z8-SVQaHZ-p"
      },
      "source": [
        "## Let's predict a salary of an employee with number of years of experience"
      ]
    },
    {
      "cell_type": "code",
      "execution_count": null,
      "metadata": {
        "id": "qzQU7iViFwIW"
      },
      "outputs": [],
      "source": []
    }
  ],
  "metadata": {
    "colab": {
      "provenance": []
    },
    "kernelspec": {
      "display_name": ".venv",
      "language": "python",
      "name": "python3"
    },
    "language_info": {
      "codemirror_mode": {
        "name": "ipython",
        "version": 3
      },
      "file_extension": ".py",
      "mimetype": "text/x-python",
      "name": "python",
      "nbconvert_exporter": "python",
      "pygments_lexer": "ipython3",
      "version": "3.12.4"
    }
  },
  "nbformat": 4,
  "nbformat_minor": 0
}
